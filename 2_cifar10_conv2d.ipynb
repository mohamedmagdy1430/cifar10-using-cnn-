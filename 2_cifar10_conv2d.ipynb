{
  "nbformat": 4,
  "nbformat_minor": 0,
  "metadata": {
    "colab": {
      "provenance": []
    },
    "kernelspec": {
      "name": "python3",
      "display_name": "Python 3"
    },
    "language_info": {
      "name": "python"
    },
    "accelerator": "GPU"
  },
  "cells": [
    {
      "cell_type": "code",
      "metadata": {
        "id": "HD2Rk-ZDSMVx"
      },
      "source": [
        "from tensorflow import keras\n",
        "from keras.layers import Input, Dense, Flatten\n",
        "from tensorflow.keras import  datasets\n",
        "from matplotlib import pyplot as plt"
      ],
      "execution_count": 1,
      "outputs": []
    },
    {
      "cell_type": "code",
      "source": [
        "(x_train, y_train), (x_test, y_test) = datasets.cifar10.load_data()"
      ],
      "metadata": {
        "id": "6V3cDL4G4WMF",
        "colab": {
          "base_uri": "https://localhost:8080/"
        },
        "outputId": "07945793-197f-475a-ad97-88680c510307"
      },
      "execution_count": 2,
      "outputs": [
        {
          "output_type": "stream",
          "name": "stdout",
          "text": [
            "Downloading data from https://www.cs.toronto.edu/~kriz/cifar-10-python.tar.gz\n",
            "170498071/170498071 [==============================] - 6s 0us/step\n"
          ]
        }
      ]
    },
    {
      "cell_type": "code",
      "source": [
        "x_train.shape"
      ],
      "metadata": {
        "colab": {
          "base_uri": "https://localhost:8080/"
        },
        "id": "55_pRpY4yeVd",
        "outputId": "617dd757-69cf-4fe1-ec3c-2e5456247655"
      },
      "execution_count": 3,
      "outputs": [
        {
          "output_type": "execute_result",
          "data": {
            "text/plain": [
              "(50000, 32, 32, 3)"
            ]
          },
          "metadata": {},
          "execution_count": 3
        }
      ]
    },
    {
      "cell_type": "code",
      "source": [
        "x_test.shape"
      ],
      "metadata": {
        "colab": {
          "base_uri": "https://localhost:8080/"
        },
        "id": "lcHxNPByyt2B",
        "outputId": "bd796566-576d-435e-ff46-daca1eab0c39"
      },
      "execution_count": 4,
      "outputs": [
        {
          "output_type": "execute_result",
          "data": {
            "text/plain": [
              "(10000, 32, 32, 3)"
            ]
          },
          "metadata": {},
          "execution_count": 4
        }
      ]
    },
    {
      "cell_type": "code",
      "metadata": {
        "id": "vt9t37WrhWy8"
      },
      "source": [
        "#Normalize image pixel values.\n",
        "x_train = x_train/255\n",
        "x_test = x_test/255"
      ],
      "execution_count": 5,
      "outputs": []
    },
    {
      "cell_type": "code",
      "metadata": {
        "colab": {
          "base_uri": "https://localhost:8080/"
        },
        "id": "ORom-RTJZ-kp",
        "outputId": "650dd057-9dec-4016-b36f-0f5b19bdb270"
      },
      "source": [
        "model = keras.Sequential()\n",
        "model.add(keras.layers.Conv2D(32, kernel_size=(5, 5), activation=\"relu\", input_shape=(32,32,3)))\n",
        "model.add(keras.layers.MaxPool2D(2, 2))\n",
        "model.add(keras.layers.Conv2D(64, kernel_size=(5, 5), activation=\"relu\"))\n",
        "model.add(keras.layers.MaxPool2D(2, 2))\n",
        "model.add(keras.layers.Flatten())\n",
        "model.add(keras.layers.Dense(512, activation=\"relu\"))\n",
        "model.add(keras.layers.Dense(10, activation=\"softmax\"))\n",
        "model.summary()"
      ],
      "execution_count": 6,
      "outputs": [
        {
          "output_type": "stream",
          "name": "stdout",
          "text": [
            "Model: \"sequential\"\n",
            "_________________________________________________________________\n",
            " Layer (type)                Output Shape              Param #   \n",
            "=================================================================\n",
            " conv2d (Conv2D)             (None, 28, 28, 32)        2432      \n",
            "                                                                 \n",
            " max_pooling2d (MaxPooling2D  (None, 14, 14, 32)       0         \n",
            " )                                                               \n",
            "                                                                 \n",
            " conv2d_1 (Conv2D)           (None, 10, 10, 64)        51264     \n",
            "                                                                 \n",
            " max_pooling2d_1 (MaxPooling  (None, 5, 5, 64)         0         \n",
            " 2D)                                                             \n",
            "                                                                 \n",
            " flatten (Flatten)           (None, 1600)              0         \n",
            "                                                                 \n",
            " dense (Dense)               (None, 512)               819712    \n",
            "                                                                 \n",
            " dense_1 (Dense)             (None, 10)                5130      \n",
            "                                                                 \n",
            "=================================================================\n",
            "Total params: 878,538\n",
            "Trainable params: 878,538\n",
            "Non-trainable params: 0\n",
            "_________________________________________________________________\n"
          ]
        }
      ]
    },
    {
      "cell_type": "code",
      "metadata": {
        "id": "skMSXinVhSPV",
        "colab": {
          "base_uri": "https://localhost:8080/"
        },
        "outputId": "860ae379-9f94-41dc-f9b1-df9c1a53849d"
      },
      "source": [
        "model.compile(optimizer='Adam',loss=\"sparse_categorical_crossentropy\",metrics=['accuracy']) \n",
        "results=model.fit(x_train,y_train, epochs=20,validation_data=(x_test, y_test),batch_size=128,\n",
        "                  steps_per_epoch=391,validation_steps=79, callbacks=keras.callbacks.EarlyStopping(patience=3,restore_best_weights=True)\n",
        "                  )\n",
        "\n"
      ],
      "execution_count": 7,
      "outputs": [
        {
          "output_type": "stream",
          "name": "stdout",
          "text": [
            "Epoch 1/20\n",
            "391/391 [==============================] - 13s 8ms/step - loss: 1.5091 - accuracy: 0.4562 - val_loss: 1.2781 - val_accuracy: 0.5384\n",
            "Epoch 2/20\n",
            "391/391 [==============================] - 3s 8ms/step - loss: 1.1668 - accuracy: 0.5867 - val_loss: 1.1223 - val_accuracy: 0.6128\n",
            "Epoch 3/20\n",
            "391/391 [==============================] - 2s 6ms/step - loss: 0.9915 - accuracy: 0.6532 - val_loss: 0.9730 - val_accuracy: 0.6608\n",
            "Epoch 4/20\n",
            "391/391 [==============================] - 2s 6ms/step - loss: 0.8714 - accuracy: 0.6969 - val_loss: 0.9121 - val_accuracy: 0.6874\n",
            "Epoch 5/20\n",
            "391/391 [==============================] - 2s 6ms/step - loss: 0.7709 - accuracy: 0.7325 - val_loss: 0.9000 - val_accuracy: 0.6923\n",
            "Epoch 6/20\n",
            "391/391 [==============================] - 2s 6ms/step - loss: 0.6853 - accuracy: 0.7601 - val_loss: 0.8544 - val_accuracy: 0.7134\n",
            "Epoch 7/20\n",
            "391/391 [==============================] - 3s 7ms/step - loss: 0.5959 - accuracy: 0.7938 - val_loss: 0.9241 - val_accuracy: 0.6981\n",
            "Epoch 8/20\n",
            "391/391 [==============================] - 2s 6ms/step - loss: 0.5142 - accuracy: 0.8214 - val_loss: 0.9026 - val_accuracy: 0.7090\n",
            "Epoch 9/20\n",
            "391/391 [==============================] - 2s 6ms/step - loss: 0.4300 - accuracy: 0.8521 - val_loss: 0.9228 - val_accuracy: 0.7142\n"
          ]
        }
      ]
    },
    {
      "cell_type": "code",
      "metadata": {
        "id": "eQsuIhTzk3fE",
        "colab": {
          "base_uri": "https://localhost:8080/"
        },
        "outputId": "df55e9d1-648d-41e7-ce1e-fb9313a1bbc9"
      },
      "source": [
        "score = model.evaluate(x_test, y_test)\n"
      ],
      "execution_count": 8,
      "outputs": [
        {
          "output_type": "stream",
          "name": "stdout",
          "text": [
            "313/313 [==============================] - 1s 3ms/step - loss: 0.8544 - accuracy: 0.7134\n"
          ]
        }
      ]
    },
    {
      "cell_type": "code",
      "source": [
        "y_pred=model.predict(x_test)\n",
        "y_pred.shape"
      ],
      "metadata": {
        "colab": {
          "base_uri": "https://localhost:8080/"
        },
        "id": "RBJZHozlmAaA",
        "outputId": "8117db0d-1a78-4ecc-ad10-9525b4da04b0"
      },
      "execution_count": 9,
      "outputs": [
        {
          "output_type": "stream",
          "name": "stdout",
          "text": [
            "313/313 [==============================] - 1s 2ms/step\n"
          ]
        },
        {
          "output_type": "execute_result",
          "data": {
            "text/plain": [
              "(10000, 10)"
            ]
          },
          "metadata": {},
          "execution_count": 9
        }
      ]
    },
    {
      "cell_type": "code",
      "source": [
        "import numpy as np\n",
        "from numpy import argmax\n",
        "y_pred1=argmax(y_pred,axis=1)\n",
        "y_pred1.shape"
      ],
      "metadata": {
        "colab": {
          "base_uri": "https://localhost:8080/"
        },
        "id": "zxBgP1zjmIQP",
        "outputId": "d59a08a2-64f3-4de0-e1d2-3f8f1cce10ab"
      },
      "execution_count": 10,
      "outputs": [
        {
          "output_type": "execute_result",
          "data": {
            "text/plain": [
              "(10000,)"
            ]
          },
          "metadata": {},
          "execution_count": 10
        }
      ]
    },
    {
      "cell_type": "code",
      "source": [
        "from sklearn.metrics import accuracy_score,  confusion_matrix\n",
        "accuracy_score(y_test,y_pred1)*100"
      ],
      "metadata": {
        "colab": {
          "base_uri": "https://localhost:8080/"
        },
        "id": "WYMeO3FMmj4m",
        "outputId": "cb5d38b5-dd23-4096-a811-d86796959bf7"
      },
      "execution_count": 11,
      "outputs": [
        {
          "output_type": "execute_result",
          "data": {
            "text/plain": [
              "71.34"
            ]
          },
          "metadata": {},
          "execution_count": 11
        }
      ]
    },
    {
      "cell_type": "code",
      "source": [
        "x_test.shape"
      ],
      "metadata": {
        "colab": {
          "base_uri": "https://localhost:8080/"
        },
        "id": "nVYc8iuDnI81",
        "outputId": "d2a725e3-c630-4dda-b429-2155b12ec227"
      },
      "execution_count": 12,
      "outputs": [
        {
          "output_type": "execute_result",
          "data": {
            "text/plain": [
              "(10000, 32, 32, 3)"
            ]
          },
          "metadata": {},
          "execution_count": 12
        }
      ]
    },
    {
      "cell_type": "code",
      "source": [
        "print(confusion_matrix(y_test,y_pred1))"
      ],
      "metadata": {
        "colab": {
          "base_uri": "https://localhost:8080/"
        },
        "id": "B0c1Wdrtm9IO",
        "outputId": "7e6aec8f-d6fb-423c-9086-cd05a7e7d0b3"
      },
      "execution_count": 13,
      "outputs": [
        {
          "output_type": "stream",
          "name": "stdout",
          "text": [
            "[[804  16  29  11  19   6   6   4  61  44]\n",
            " [ 21 802   4  11   4   6  10   4  26 112]\n",
            " [ 84   8 589  46  80  76  65  30  11  11]\n",
            " [ 39  14  72 433  95 214  58  27  16  32]\n",
            " [ 21  10  86  36 683  43  57  47  11   6]\n",
            " [ 21   2  44 112  60 672  24  42   5  18]\n",
            " [  9   4  47  40  28  39 811   5   7  10]\n",
            " [ 21   1  35  23  78  76  11 717   6  32]\n",
            " [ 81  31   8  15   9   6   7   2 804  37]\n",
            " [ 42  61   6  14   6  11   5   7  29 819]]\n"
          ]
        }
      ]
    },
    {
      "cell_type": "code",
      "source": [
        "plt.imshow(x_test[10],cmap=\"gray\")\n",
        "y_pred1[10]"
      ],
      "metadata": {
        "colab": {
          "base_uri": "https://localhost:8080/",
          "height": 283
        },
        "id": "Q2-o9UhKpY8k",
        "outputId": "22609219-648f-4528-bd00-199e2724ddb5"
      },
      "execution_count": 16,
      "outputs": [
        {
          "output_type": "execute_result",
          "data": {
            "text/plain": [
              "4"
            ]
          },
          "metadata": {},
          "execution_count": 16
        },
        {
          "output_type": "display_data",
          "data": {
            "text/plain": [
              "<Figure size 432x288 with 1 Axes>"
            ],
            "image/png": "[encoded data removed]"
          },
          "metadata": {
            "needs_background": "light"
          }
        }
      ]
    },
    {
      "cell_type": "code",
      "source": [
        "plt.plot(results.history['accuracy'], label='accuracy')\n",
        "plt.plot(results.history['val_accuracy'], label = 'val_accuracy')\n",
        "plt.xlabel('Epoch')\n",
        "plt.ylabel('Accuracy')\n",
        "#plt.ylim([0.5, 1])\n",
        "plt.legend(loc='lower right')\n",
        "\n",
        "test_loss, test_acc = model.evaluate(x_test,  y_test)"
      ],
      "metadata": {
        "colab": {
          "base_uri": "https://localhost:8080/",
          "height": 296
        },
        "id": "lrxn2f3Nr06H",
        "outputId": "7fc163e7-5b0c-4285-9327-f740c921520e"
      },
      "execution_count": 17,
      "outputs": [
        {
          "output_type": "stream",
          "name": "stdout",
          "text": [
            "313/313 [==============================] - 2s 5ms/step - loss: 0.8544 - accuracy: 0.7134\n"
          ]
        },
        {
          "output_type": "display_data",
          "data": {
            "text/plain": [
              "<Figure size 432x288 with 1 Axes>"
            ],
            "image/png": "[encoded data removed]"
          },
          "metadata": {
            "needs_background": "light"
          }
        }
      ]
    }
  ]
}